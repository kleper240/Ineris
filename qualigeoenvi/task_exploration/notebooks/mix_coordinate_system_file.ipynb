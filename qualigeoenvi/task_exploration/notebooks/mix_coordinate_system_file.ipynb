{
 "cells": [
  {
   "cell_type": "code",
   "execution_count": 21,
   "metadata": {
    "collapsed": true,
    "ExecuteTime": {
     "end_time": "2023-07-24T11:05:32.418446600Z",
     "start_time": "2023-07-24T11:05:29.076688800Z"
    }
   },
   "outputs": [
    {
     "name": "stdout",
     "output_type": "stream",
     "text": [
      "Numpy future warnings deactivated...\n",
      "Could not import topojson\n",
      "Could not import simpledbf (installation with pip, not conda)\n",
      "Could not import scipy\n",
      "Could not import pandasql\n",
      "ok\n"
     ]
    }
   ],
   "source": [
    "from os.path import join\n",
    "import sys\n",
    "import pandas as pd\n",
    "import geopandas as gpd\n",
    "\n",
    "sys.path.append(r'c:\\Users\\dmarin\\Dropbox\\Pro\\info\\Git\\Project_repositories\\python_odc_libs')\n",
    "import analytics_odc_lib as agf\n",
    "\n",
    "path_file = r'c:\\Users\\dmarin\\Dropbox\\Pro\\OpenDC\\99 Projects\\0142-GD4H - Datactivist\\00 Incoming\\230717 Fichier multiples coordonnees - From Mamadou\\tab_SpF.zip'\n",
    "dir_export = r'c:\\Users\\dmarin\\Dropbox\\Pro\\OpenDC\\99 Projects\\0142-GD4H - Datactivist\\02 Work\\01 Tables\\csv'\n",
    "print('ok')"
   ]
  },
  {
   "cell_type": "code",
   "execution_count": 5,
   "outputs": [
    {
     "name": "stdout",
     "output_type": "stream",
     "text": [
      "1,211,642 records\n"
     ]
    },
    {
     "data": {
      "text/plain": "  milieu  annee   code_etab nom_etablissement                adresse  \\\n0    Eau   2002  0005100143    CIE GREENFIELD  ZI de la GRANDE BORNE   \n\n           commune code_insee Type de rejet                       Polluant  \\\n0  CHATEAU-THIERRY      02168   Rejet Isolé  Carbone organique total (COT)   \n\n   CAS  ...  masse_accidentelle  longitude  latitude Type de coordonnées  \\\n0  NaN  ...                 NaN    3.39240  49.03226             Vérifié   \n\n  Type de projection annee_la_plus_recente  longitude_annee_recente  \\\n0              WGS84                  2022                   3.3924   \n\n   latitude_annee_recente  Type de coordonnées_annee_recente  \\\n0                49.03226                            Vérifié   \n\n  Type de projection_annee_recente  \n0                            WGS84  \n\n[1 rows x 21 columns]",
      "text/html": "<div>\n<style scoped>\n    .dataframe tbody tr th:only-of-type {\n        vertical-align: middle;\n    }\n\n    .dataframe tbody tr th {\n        vertical-align: top;\n    }\n\n    .dataframe thead th {\n        text-align: right;\n    }\n</style>\n<table border=\"1\" class=\"dataframe\">\n  <thead>\n    <tr style=\"text-align: right;\">\n      <th></th>\n      <th>milieu</th>\n      <th>annee</th>\n      <th>code_etab</th>\n      <th>nom_etablissement</th>\n      <th>adresse</th>\n      <th>commune</th>\n      <th>code_insee</th>\n      <th>Type de rejet</th>\n      <th>Polluant</th>\n      <th>CAS</th>\n      <th>...</th>\n      <th>masse_accidentelle</th>\n      <th>longitude</th>\n      <th>latitude</th>\n      <th>Type de coordonnées</th>\n      <th>Type de projection</th>\n      <th>annee_la_plus_recente</th>\n      <th>longitude_annee_recente</th>\n      <th>latitude_annee_recente</th>\n      <th>Type de coordonnées_annee_recente</th>\n      <th>Type de projection_annee_recente</th>\n    </tr>\n  </thead>\n  <tbody>\n    <tr>\n      <th>0</th>\n      <td>Eau</td>\n      <td>2002</td>\n      <td>0005100143</td>\n      <td>CIE GREENFIELD</td>\n      <td>ZI de la GRANDE BORNE</td>\n      <td>CHATEAU-THIERRY</td>\n      <td>02168</td>\n      <td>Rejet Isolé</td>\n      <td>Carbone organique total (COT)</td>\n      <td>NaN</td>\n      <td>...</td>\n      <td>NaN</td>\n      <td>3.39240</td>\n      <td>49.03226</td>\n      <td>Vérifié</td>\n      <td>WGS84</td>\n      <td>2022</td>\n      <td>3.3924</td>\n      <td>49.03226</td>\n      <td>Vérifié</td>\n      <td>WGS84</td>\n    </tr>\n  </tbody>\n</table>\n<p>1 rows × 21 columns</p>\n</div>"
     },
     "execution_count": 5,
     "metadata": {},
     "output_type": "execute_result"
    }
   ],
   "source": [
    "df = pd.read_csv(path_file, sep=';', encoding='ansi', low_memory=False)\n",
    "print('{:,} records'.format(len(df.index)))\n",
    "df.head(1)"
   ],
   "metadata": {
    "collapsed": false,
    "ExecuteTime": {
     "end_time": "2023-07-24T09:31:58.041718900Z",
     "start_time": "2023-07-24T09:31:53.089678200Z"
    }
   }
  },
  {
   "cell_type": "code",
   "execution_count": 8,
   "outputs": [
    {
     "name": "stdout",
     "output_type": "stream",
     "text": [
      "--------------------\n",
      "Type de coordonnées:\n",
      "  Type de coordonnées          %\n",
      "0           Centroide  13.250283\n",
      "1             Déclaré  33.774745\n",
      "2             Vérifié  52.974971\n",
      "--------------------\n",
      "Type de projection:\n",
      "  Type de projection          %\n",
      "0         Lambert II  29.506582\n",
      "1              WGS84  70.493418\n",
      "--------------------\n",
      "Type de coordonnées_annee_recente:\n",
      "  Type de coordonnées_annee_recente          %\n",
      "0                         Centroide   4.540533\n",
      "1                           Déclaré  42.484496\n",
      "2                           Vérifié  52.974971\n",
      "--------------------\n",
      "Type de projection_annee_recente:\n",
      "  Type de projection_annee_recente          %\n",
      "0                       Lambert II  37.804463\n",
      "1                            WGS84  62.195537\n"
     ]
    }
   ],
   "source": [
    "col_check = ['Type de coordonnées', 'Type de projection', 'Type de coordonnées_annee_recente', 'Type de projection_annee_recente']\n",
    "for col in col_check:\n",
    "    df_group = df.groupby(col, as_index=False)['annee'].count()\n",
    "    sum_val = df_group['annee'].sum()\n",
    "    df_group['%'] = 100 * df_group['annee'] / sum_val\n",
    "    df_group.drop(columns='annee', inplace=True)\n",
    "    print('--------------------\\n{}:\\n{}'.format(col, df_group))"
   ],
   "metadata": {
    "collapsed": false,
    "ExecuteTime": {
     "end_time": "2023-07-24T09:37:58.471567500Z",
     "start_time": "2023-07-24T09:37:58.175910500Z"
    }
   }
  },
  {
   "cell_type": "code",
   "execution_count": 12,
   "outputs": [
    {
     "name": "stdout",
     "output_type": "stream",
     "text": [
      "Exporting 353,570 records:\tType de projection\tLambert II\n",
      "Exporting 844,705 records:\tType de projection\tWGS84\n",
      "Exporting 457,744 records:\tType de projection_annee_recente\tLambert II\n",
      "Exporting 753,076 records:\tType de projection_annee_recente\tWGS84\n",
      "ok\n"
     ]
    }
   ],
   "source": [
    "# # Export lambert II and WGS 84 separately:\n",
    "f_types = ['Type de projection', 'Type de projection_annee_recente']\n",
    "f_syst = ['Lambert II', 'WGS84']\n",
    "for f_type in f_types:\n",
    "    for syst in f_syst:\n",
    "        f_export = join(dir_export, '{}_{}.csv'.format(f_type, syst).replace(' ', ''))\n",
    "        df_exp = df.loc[df[f_type]==syst]\n",
    "        print('Exporting {:,} records:\\t{}\\t{}'.format(len(df_exp.index), f_type, syst))\n",
    "        df_exp.to_csv(f_export, index=False, encoding='ansi')\n",
    "\n",
    "print('ok')\n"
   ],
   "metadata": {
    "collapsed": false,
    "ExecuteTime": {
     "end_time": "2023-07-24T10:03:32.650400800Z",
     "start_time": "2023-07-24T10:03:02.040616600Z"
    }
   }
  },
  {
   "cell_type": "code",
   "execution_count": 19,
   "outputs": [
    {
     "name": "stdout",
     "output_type": "stream",
     "text": [
      "{'minx': 72525.72071506886, 'miny': 1614430.463979396, 'maxx': 1223160.3603614653, 'maxy': 2683676.9260735745}\n"
     ]
    },
    {
     "data": {
      "text/plain": "           minx          miny          maxx          maxy\n0  72525.720715  1.614430e+06  1.223160e+06  2.683677e+06",
      "text/html": "<div>\n<style scoped>\n    .dataframe tbody tr th:only-of-type {\n        vertical-align: middle;\n    }\n\n    .dataframe tbody tr th {\n        vertical-align: top;\n    }\n\n    .dataframe thead th {\n        text-align: right;\n    }\n</style>\n<table border=\"1\" class=\"dataframe\">\n  <thead>\n    <tr style=\"text-align: right;\">\n      <th></th>\n      <th>minx</th>\n      <th>miny</th>\n      <th>maxx</th>\n      <th>maxy</th>\n    </tr>\n  </thead>\n  <tbody>\n    <tr>\n      <th>0</th>\n      <td>72525.720715</td>\n      <td>1.614430e+06</td>\n      <td>1.223160e+06</td>\n      <td>2.683677e+06</td>\n    </tr>\n  </tbody>\n</table>\n</div>"
     },
     "execution_count": 19,
     "metadata": {},
     "output_type": "execute_result"
    }
   ],
   "source": [
    "# # Test automatic correction:\n",
    "wgs84_bounds = {\n",
    "    'minx': -180,\n",
    "    'maxx': 180,\n",
    "    'miny': -180,\n",
    "    'maxy': 180,\n",
    "}\n",
    "lambert_II_bounds = {}\n",
    "epsg_lambert_II = 27572\n",
    "epsg_wgs84 = 4326\n",
    "\n",
    "# # Laod region lambert II and get bounds:\n",
    "reg_l_II = gpd.read_file(r'c:\\Users\\dmarin\\Dropbox\\Pro\\OpenDC\\99 Projects\\0142-GD4H - Datactivist\\02 Work\\00 GIS\\00 SHP\\admin\\regions_convex_hull_Lambert_II.shp')\n",
    "bbox = reg_l_II.geometry.bounds\n",
    "lambert_II_bounds['minx'] = bbox.iloc[0, 0]\n",
    "lambert_II_bounds['miny'] = bbox.iloc[0, 1]\n",
    "lambert_II_bounds['maxx'] = bbox.iloc[0, 2]\n",
    "lambert_II_bounds['maxy'] = bbox.iloc[0, 3]\n",
    "\n",
    "print(lambert_II_bounds)\n",
    "bbox\n"
   ],
   "metadata": {
    "collapsed": false,
    "ExecuteTime": {
     "end_time": "2023-07-24T10:54:09.119934700Z",
     "start_time": "2023-07-24T10:54:09.088228300Z"
    }
   }
  },
  {
   "cell_type": "code",
   "execution_count": 38,
   "outputs": [
    {
     "name": "stdout",
     "output_type": "stream",
     "text": [
      "1,211,642 records (vs 1,211,642 original)\n"
     ]
    },
    {
     "data": {
      "text/plain": "       milieu  annee   code_etab  \\\n80052     Eau   2006  0005401338   \n891776    Air   2013   059.01186   \n76633     Eau   2005    24370002   \n651893    Air   2004   070.01004   \n747390    Air   2008   064.01784   \n205020    Eau   2009   063.01005   \n800421    Air   2010   061.02152   \n684546    Air   2006   058.00360   \n44843     Eau   2004   065.01845   \n913605    Air   2013    75600322   \n\n                                        nom_etablissement  \\\n80052                  Rhodia OPERATIONS Uisne de Clamecy   \n891776                                            NOUVION   \n76633                              FROMAGERIE DES CHAUMES   \n651893  INOVA (CENTRE DE TRAITEMENT THERMIQUE DE NOYEL...   \n747390                         Thales Alenia Space CANNES   \n205020                                              FAMAT   \n800421                                   Carrier Montluel   \n684546                   Société Couronnaise de Raffinage   \n44843                          Routière de l'Est Parisien   \n913605                               GAEC JAIGU PELLOUOIS   \n\n                             adresse                   commune code_insee  \\\n80052           CI Saint Roch, BP 25                   CLAMECY      58079   \n891776                    Le Village                 LOEUILLEY      70305   \n76633                   LES LAURENTS  SAINT-ANTOINE-DE-BREUILH      24370   \n651893      RUE DU DOCTEUR SCHAFFNER        NOYELLES-SOUS-LENS      62628   \n747390        100 Bd du Midi-B.P. 99                    CANNES      06029   \n205020            ZI de BRAIS BP 218             SAINT-NAZAIRE      44184   \n800421           BP 49 Route de Thil                  MONTLUEL      01262   \n684546        72 rue Aristide Briand            PETIT-COURONNE      76497   \n44843   RD 215, Lieudit 'les Bonnes'                  MOISENAY      77295   \n913605                 Les 13 Chênes                  TREMOREL      22371   \n\n         Type de rejet                                           Polluant  \\\n80052      Rejet Isolé                  Demande chimique en oxygène (DCO)   \n891776             NaN  Composés organiques volatils non méthaniques (...   \n76633      Rejet Isolé                       Matières en suspension (MES)   \n651893             NaN                           Poussières totales (TSP)   \n747390             NaN                        Nickel et ses composés (Ni)   \n205020  Rejet raccordé                     Aluminium et ses composés (Al)   \n800421             NaN                           Hydroflurocarbures (HFC)   \n684546             NaN                                      Méthane (CH4)   \n44843      Rejet Isolé                       Cadmium et ses composés (Cd)   \n913605             NaN                                     Ammoniac (NH3)   \n\n              CAS  ...  Type de projection  annee_la_plus_recente  \\\n80052         NaN  ...               WGS84                   2022   \n891776        NaN  ...               WGS84                   2015   \n76633         NaN  ...          Lambert II                   2016   \n651893        NaN  ...          Lambert II                   2018   \n747390  7440-02-0  ...          Lambert II                   2018   \n205020  7429-90-5  ...               WGS84                   2018   \n800421        NaN  ...          Lambert II                   2018   \n684546    74-82-8  ...          Lambert II                   2012   \n44843   7440-43-9  ...          Lambert II                   2018   \n913605  7664-41-7  ...               WGS84                   2016   \n\n       longitude_annee_recente latitude_annee_recente  \\\n80052                  3.52114           4.746527e+01   \n891776                 5.44431           4.740480e+01   \n76633             428647.00000           1.983803e+06   \n651893                 2.85000           5.042000e+01   \n747390            973160.00000           1.484000e+05   \n205020            250121.00000           2.265064e+06   \n800421            810500.00000           2.097573e+06   \n684546               503.70600           2.487026e+03   \n44843             631221.00000           2.396817e+06   \n913605                -2.30000           4.819000e+01   \n\n       Type de coordonnées_annee_recente Type de projection_annee_recente  \\\n80052                            Vérifié                            WGS84   \n891776                           Déclaré                            WGS84   \n76633                            Déclaré                       Lambert II   \n651893                           Déclaré                       Lambert II   \n747390                           Déclaré                       Lambert II   \n205020                           Déclaré                       Lambert II   \n800421                           Déclaré                       Lambert II   \n684546                           Déclaré                       Lambert II   \n44843                            Déclaré                       Lambert II   \n913605                         Centroide                            WGS84   \n\n        longitude WGS84  latitude WGS84  longitude_annee_recente WGS84  \\\n80052          3.521140       47.465270                       3.521140   \n891776         5.444310       47.404800                       5.444310   \n76633          0.170309       44.833712                       0.170309   \n651893         2.850000       50.420000                       2.850000   \n747390         5.976826       28.526143                       5.977058   \n205020        -2.250000       47.280000                      -2.292101   \n800421         5.046712       45.841534                       5.046921   \n684546        -3.401492       27.162504                      -3.401492   \n44843          2.759403       48.569307                       2.759403   \n913605        -2.300000       48.190000                      -2.300000   \n\n       latitude_annee_recente WGS84  \n80052                     47.465270  \n891776                    47.404800  \n76633                     44.833712  \n651893                    50.420000  \n747390                    28.528711  \n205020                    47.292533  \n800421                    45.845787  \n684546                    27.162504  \n44843                     48.569307  \n913605                    48.190000  \n\n[10 rows x 25 columns]",
      "text/html": "<div>\n<style scoped>\n    .dataframe tbody tr th:only-of-type {\n        vertical-align: middle;\n    }\n\n    .dataframe tbody tr th {\n        vertical-align: top;\n    }\n\n    .dataframe thead th {\n        text-align: right;\n    }\n</style>\n<table border=\"1\" class=\"dataframe\">\n  <thead>\n    <tr style=\"text-align: right;\">\n      <th></th>\n      <th>milieu</th>\n      <th>annee</th>\n      <th>code_etab</th>\n      <th>nom_etablissement</th>\n      <th>adresse</th>\n      <th>commune</th>\n      <th>code_insee</th>\n      <th>Type de rejet</th>\n      <th>Polluant</th>\n      <th>CAS</th>\n      <th>...</th>\n      <th>Type de projection</th>\n      <th>annee_la_plus_recente</th>\n      <th>longitude_annee_recente</th>\n      <th>latitude_annee_recente</th>\n      <th>Type de coordonnées_annee_recente</th>\n      <th>Type de projection_annee_recente</th>\n      <th>longitude WGS84</th>\n      <th>latitude WGS84</th>\n      <th>longitude_annee_recente WGS84</th>\n      <th>latitude_annee_recente WGS84</th>\n    </tr>\n  </thead>\n  <tbody>\n    <tr>\n      <th>80052</th>\n      <td>Eau</td>\n      <td>2006</td>\n      <td>0005401338</td>\n      <td>Rhodia OPERATIONS Uisne de Clamecy</td>\n      <td>CI Saint Roch, BP 25</td>\n      <td>CLAMECY</td>\n      <td>58079</td>\n      <td>Rejet Isolé</td>\n      <td>Demande chimique en oxygène (DCO)</td>\n      <td>NaN</td>\n      <td>...</td>\n      <td>WGS84</td>\n      <td>2022</td>\n      <td>3.52114</td>\n      <td>4.746527e+01</td>\n      <td>Vérifié</td>\n      <td>WGS84</td>\n      <td>3.521140</td>\n      <td>47.465270</td>\n      <td>3.521140</td>\n      <td>47.465270</td>\n    </tr>\n    <tr>\n      <th>891776</th>\n      <td>Air</td>\n      <td>2013</td>\n      <td>059.01186</td>\n      <td>NOUVION</td>\n      <td>Le Village</td>\n      <td>LOEUILLEY</td>\n      <td>70305</td>\n      <td>NaN</td>\n      <td>Composés organiques volatils non méthaniques (...</td>\n      <td>NaN</td>\n      <td>...</td>\n      <td>WGS84</td>\n      <td>2015</td>\n      <td>5.44431</td>\n      <td>4.740480e+01</td>\n      <td>Déclaré</td>\n      <td>WGS84</td>\n      <td>5.444310</td>\n      <td>47.404800</td>\n      <td>5.444310</td>\n      <td>47.404800</td>\n    </tr>\n    <tr>\n      <th>76633</th>\n      <td>Eau</td>\n      <td>2005</td>\n      <td>24370002</td>\n      <td>FROMAGERIE DES CHAUMES</td>\n      <td>LES LAURENTS</td>\n      <td>SAINT-ANTOINE-DE-BREUILH</td>\n      <td>24370</td>\n      <td>Rejet Isolé</td>\n      <td>Matières en suspension (MES)</td>\n      <td>NaN</td>\n      <td>...</td>\n      <td>Lambert II</td>\n      <td>2016</td>\n      <td>428647.00000</td>\n      <td>1.983803e+06</td>\n      <td>Déclaré</td>\n      <td>Lambert II</td>\n      <td>0.170309</td>\n      <td>44.833712</td>\n      <td>0.170309</td>\n      <td>44.833712</td>\n    </tr>\n    <tr>\n      <th>651893</th>\n      <td>Air</td>\n      <td>2004</td>\n      <td>070.01004</td>\n      <td>INOVA (CENTRE DE TRAITEMENT THERMIQUE DE NOYEL...</td>\n      <td>RUE DU DOCTEUR SCHAFFNER</td>\n      <td>NOYELLES-SOUS-LENS</td>\n      <td>62628</td>\n      <td>NaN</td>\n      <td>Poussières totales (TSP)</td>\n      <td>NaN</td>\n      <td>...</td>\n      <td>Lambert II</td>\n      <td>2018</td>\n      <td>2.85000</td>\n      <td>5.042000e+01</td>\n      <td>Déclaré</td>\n      <td>Lambert II</td>\n      <td>2.850000</td>\n      <td>50.420000</td>\n      <td>2.850000</td>\n      <td>50.420000</td>\n    </tr>\n    <tr>\n      <th>747390</th>\n      <td>Air</td>\n      <td>2008</td>\n      <td>064.01784</td>\n      <td>Thales Alenia Space CANNES</td>\n      <td>100 Bd du Midi-B.P. 99</td>\n      <td>CANNES</td>\n      <td>06029</td>\n      <td>NaN</td>\n      <td>Nickel et ses composés (Ni)</td>\n      <td>7440-02-0</td>\n      <td>...</td>\n      <td>Lambert II</td>\n      <td>2018</td>\n      <td>973160.00000</td>\n      <td>1.484000e+05</td>\n      <td>Déclaré</td>\n      <td>Lambert II</td>\n      <td>5.976826</td>\n      <td>28.526143</td>\n      <td>5.977058</td>\n      <td>28.528711</td>\n    </tr>\n    <tr>\n      <th>205020</th>\n      <td>Eau</td>\n      <td>2009</td>\n      <td>063.01005</td>\n      <td>FAMAT</td>\n      <td>ZI de BRAIS BP 218</td>\n      <td>SAINT-NAZAIRE</td>\n      <td>44184</td>\n      <td>Rejet raccordé</td>\n      <td>Aluminium et ses composés (Al)</td>\n      <td>7429-90-5</td>\n      <td>...</td>\n      <td>WGS84</td>\n      <td>2018</td>\n      <td>250121.00000</td>\n      <td>2.265064e+06</td>\n      <td>Déclaré</td>\n      <td>Lambert II</td>\n      <td>-2.250000</td>\n      <td>47.280000</td>\n      <td>-2.292101</td>\n      <td>47.292533</td>\n    </tr>\n    <tr>\n      <th>800421</th>\n      <td>Air</td>\n      <td>2010</td>\n      <td>061.02152</td>\n      <td>Carrier Montluel</td>\n      <td>BP 49 Route de Thil</td>\n      <td>MONTLUEL</td>\n      <td>01262</td>\n      <td>NaN</td>\n      <td>Hydroflurocarbures (HFC)</td>\n      <td>NaN</td>\n      <td>...</td>\n      <td>Lambert II</td>\n      <td>2018</td>\n      <td>810500.00000</td>\n      <td>2.097573e+06</td>\n      <td>Déclaré</td>\n      <td>Lambert II</td>\n      <td>5.046712</td>\n      <td>45.841534</td>\n      <td>5.046921</td>\n      <td>45.845787</td>\n    </tr>\n    <tr>\n      <th>684546</th>\n      <td>Air</td>\n      <td>2006</td>\n      <td>058.00360</td>\n      <td>Société Couronnaise de Raffinage</td>\n      <td>72 rue Aristide Briand</td>\n      <td>PETIT-COURONNE</td>\n      <td>76497</td>\n      <td>NaN</td>\n      <td>Méthane (CH4)</td>\n      <td>74-82-8</td>\n      <td>...</td>\n      <td>Lambert II</td>\n      <td>2012</td>\n      <td>503.70600</td>\n      <td>2.487026e+03</td>\n      <td>Déclaré</td>\n      <td>Lambert II</td>\n      <td>-3.401492</td>\n      <td>27.162504</td>\n      <td>-3.401492</td>\n      <td>27.162504</td>\n    </tr>\n    <tr>\n      <th>44843</th>\n      <td>Eau</td>\n      <td>2004</td>\n      <td>065.01845</td>\n      <td>Routière de l'Est Parisien</td>\n      <td>RD 215, Lieudit 'les Bonnes'</td>\n      <td>MOISENAY</td>\n      <td>77295</td>\n      <td>Rejet Isolé</td>\n      <td>Cadmium et ses composés (Cd)</td>\n      <td>7440-43-9</td>\n      <td>...</td>\n      <td>Lambert II</td>\n      <td>2018</td>\n      <td>631221.00000</td>\n      <td>2.396817e+06</td>\n      <td>Déclaré</td>\n      <td>Lambert II</td>\n      <td>2.759403</td>\n      <td>48.569307</td>\n      <td>2.759403</td>\n      <td>48.569307</td>\n    </tr>\n    <tr>\n      <th>913605</th>\n      <td>Air</td>\n      <td>2013</td>\n      <td>75600322</td>\n      <td>GAEC JAIGU PELLOUOIS</td>\n      <td>Les 13 Chênes</td>\n      <td>TREMOREL</td>\n      <td>22371</td>\n      <td>NaN</td>\n      <td>Ammoniac (NH3)</td>\n      <td>7664-41-7</td>\n      <td>...</td>\n      <td>WGS84</td>\n      <td>2016</td>\n      <td>-2.30000</td>\n      <td>4.819000e+01</td>\n      <td>Centroide</td>\n      <td>WGS84</td>\n      <td>-2.300000</td>\n      <td>48.190000</td>\n      <td>-2.300000</td>\n      <td>48.190000</td>\n    </tr>\n  </tbody>\n</table>\n<p>10 rows × 25 columns</p>\n</div>"
     },
     "execution_count": 38,
     "metadata": {},
     "output_type": "execute_result"
    }
   ],
   "source": [
    "# # Base field names:\n",
    "f_lng_base = 'longitude'  # base name, can be lng or Lambert II\n",
    "f_lat_base = 'latitude'\n",
    "f_lng_rec_base = 'longitude_annee_recente'\n",
    "f_lat_rec_base = 'latitude_annee_recente'\n",
    "\n",
    "# # Corrected field names:\n",
    "f_lng = '{} WGS84'.format(f_lng_base)\n",
    "f_lat = '{} WGS84'.format(f_lat_base)\n",
    "f_lng_rec = '{} WGS84'.format(f_lng_rec_base)\n",
    "f_lat_rec = '{} WGS84'.format(f_lat_rec_base)\n",
    "\n",
    "\n",
    "def coord_to_wgs84(df, col_coord=[], col_wgs84=[]):\n",
    "    \"\"\"\n",
    "    Function that transforms the columns in col_coord that are not in the WGS84 bounds into Lambert II, convert to WGS84 and create consistent WGS84 columns\n",
    "    :param df:\n",
    "    :param col_coord:\n",
    "    :param col_wgs84:\n",
    "    :return:\n",
    "    \"\"\"\n",
    "    df2 = df.reset_index(drop=True)\n",
    "    # # Tmp field names:\n",
    "    f_key = 'key'  # for merge\n",
    "    df2.loc[:, f_key] = df2.index.values\n",
    "    f_x = 'x_coord'\n",
    "    f_y = 'y_coord'\n",
    "\n",
    "    # # Convert coordinates to float:\n",
    "    df2.loc[:, f_x] = pd.to_numeric(df[col_coord[0]], errors='coerce')\n",
    "    df2.loc[:, f_y] = pd.to_numeric(df[col_coord[1]], errors='coerce')\n",
    "\n",
    "    # # Extract records for which coordinates are in Lambert II\n",
    "    idx_lII =df2.loc[(df2[f_x]>wgs84_bounds['maxx']) & (df2[f_y]>wgs84_bounds['maxy'])].index\n",
    "    df_lII = df2.loc[idx_lII, [f_key, f_x, f_y]]\n",
    "\n",
    "    # # Create geodf with epsg Lambert II and project to lat, lng:\n",
    "    gdf_lII = agf.df_to_gdf(df=df_lII, col_geom=[f_x, f_y], epsg=epsg_lambert_II)\n",
    "    gdf_wgs84 = gdf_lII.to_crs(epsg=epsg_wgs84)\n",
    "    gdf_wgs84.loc[:, f_x] = gdf_wgs84.geometry.x\n",
    "    gdf_wgs84.loc[:, f_y] = gdf_wgs84.geometry.y\n",
    "\n",
    "    # # Merge with df2:\n",
    "    df2 = df2.merge(gdf_wgs84[[f_key, f_x, f_y]], on=f_key, how='left')\n",
    "\n",
    "    # # Replace col WGS 84:\n",
    "    idx_na = df2.loc[df2['{}_y'.format(f_x)].isna()].index\n",
    "    idx_non_na = df2.loc[~df2['{}_y'.format(f_x)].isna()].index\n",
    "    # # Replace by original where already WGS84:\n",
    "    df2.loc[idx_na, col_wgs84[0]] = df2.loc[idx_na, col_coord[0]]\n",
    "    df2.loc[idx_na, col_wgs84[1]] = df2.loc[idx_na, col_coord[1]]\n",
    "    # # Replace by converted where was Lambert II:\n",
    "    df2.loc[idx_non_na, col_wgs84[0]] = df2.loc[idx_non_na, '{}_y'.format(f_x)]\n",
    "    df2.loc[idx_non_na, col_wgs84[1]] = df2.loc[idx_non_na, '{}_y'.format(f_y)]\n",
    "\n",
    "    # # Convert to numeric:\n",
    "    df2[col_wgs84[0]] = pd.to_numeric(df2[col_wgs84[0]], errors='coerce')\n",
    "    df2[col_wgs84[1]] = pd.to_numeric(df2[col_wgs84[1]], errors='coerce')\n",
    "\n",
    "    # # Drop tmp columns:\n",
    "    df2.drop(columns=[f_key, '{}_x'.format(f_x), '{}_x'.format(f_y), '{}_y'.format(f_x), '{}_y'.format(f_y)], inplace=True)\n",
    "\n",
    "    return df2\n",
    "\n",
    "# # Longitude latiude:\n",
    "df_fixed = coord_to_wgs84(df=df, col_coord=[f_lng_base, f_lat_base], col_wgs84=[f_lng, f_lat])\n",
    "\n",
    "# # Longitude latiude année récente:\n",
    "df_fixed = coord_to_wgs84(df=df_fixed, col_coord=[f_lng_rec_base, f_lat_rec_base], col_wgs84=[f_lng_rec, f_lat_rec])\n",
    "\n",
    "print('{:,} records (vs {:,} original)'.format(len(df_fixed.index), len(df.index)))\n",
    "\n",
    "df_fixed.to_csv(join(dir_export, 'projection_harmonisee.csv'), index=False)\n",
    "df_fixed.sample(10)\n",
    "\n"
   ],
   "metadata": {
    "collapsed": false,
    "ExecuteTime": {
     "end_time": "2023-07-24T13:26:57.994415600Z",
     "start_time": "2023-07-24T13:26:27.994826600Z"
    }
   }
  },
  {
   "cell_type": "code",
   "execution_count": 46,
   "outputs": [
    {
     "name": "stdout",
     "output_type": "stream",
     "text": [
      "col_long_lat_raw_data: 846,458 en France (69.9%)\n",
      "col_long_lat: 1,081,595 en France (89.3%)\n",
      "col_long_lat_annee_recente: 1,072,422 en France (88.5%)\n"
     ]
    },
    {
     "data": {
      "text/plain": "         longitude_annee_recente WGS84  latitude_annee_recente WGS84  \\\n0                              3.39240                      49.03226   \n1                              3.39240                      49.03226   \n2                              3.22590                      49.60741   \n3                              3.22590                      49.60741   \n4                              3.43197                      49.94787   \n...                                ...                           ...   \n1211637                        1.18239                      49.31161   \n1211638                        1.18239                      49.31161   \n1211639                        1.18239                      49.31161   \n1211640                        1.18239                      49.31161   \n1211641                        1.18239                      49.31161   \n\n                         geometry           region new_code          area  \\\n0        POINT (3.39240 49.03226)  Hauts-de-France       32  8.228557e+11   \n1        POINT (3.39240 49.03226)  Hauts-de-France       32  8.228557e+11   \n2        POINT (3.22590 49.60741)  Hauts-de-France       32  8.228557e+11   \n3        POINT (3.22590 49.60741)  Hauts-de-France       32  8.228557e+11   \n4        POINT (3.43197 49.94787)  Hauts-de-France       32  8.228557e+11   \n...                           ...              ...      ...           ...   \n1211637  POINT (1.18239 49.31161)  Hauts-de-France       32  8.228557e+11   \n1211638  POINT (1.18239 49.31161)  Hauts-de-France       32  8.228557e+11   \n1211639  POINT (1.18239 49.31161)  Hauts-de-France       32  8.228557e+11   \n1211640  POINT (1.18239 49.31161)  Hauts-de-France       32  8.228557e+11   \n1211641  POINT (1.18239 49.31161)  Hauts-de-France       32  8.228557e+11   \n\n            perimeter  \n0        3.500891e+06  \n1        3.500891e+06  \n2        3.500891e+06  \n3        3.500891e+06  \n4        3.500891e+06  \n...               ...  \n1211637  3.500891e+06  \n1211638  3.500891e+06  \n1211639  3.500891e+06  \n1211640  3.500891e+06  \n1211641  3.500891e+06  \n\n[1211642 rows x 7 columns]",
      "text/html": "<div>\n<style scoped>\n    .dataframe tbody tr th:only-of-type {\n        vertical-align: middle;\n    }\n\n    .dataframe tbody tr th {\n        vertical-align: top;\n    }\n\n    .dataframe thead th {\n        text-align: right;\n    }\n</style>\n<table border=\"1\" class=\"dataframe\">\n  <thead>\n    <tr style=\"text-align: right;\">\n      <th></th>\n      <th>longitude_annee_recente WGS84</th>\n      <th>latitude_annee_recente WGS84</th>\n      <th>geometry</th>\n      <th>region</th>\n      <th>new_code</th>\n      <th>area</th>\n      <th>perimeter</th>\n    </tr>\n  </thead>\n  <tbody>\n    <tr>\n      <th>0</th>\n      <td>3.39240</td>\n      <td>49.03226</td>\n      <td>POINT (3.39240 49.03226)</td>\n      <td>Hauts-de-France</td>\n      <td>32</td>\n      <td>8.228557e+11</td>\n      <td>3.500891e+06</td>\n    </tr>\n    <tr>\n      <th>1</th>\n      <td>3.39240</td>\n      <td>49.03226</td>\n      <td>POINT (3.39240 49.03226)</td>\n      <td>Hauts-de-France</td>\n      <td>32</td>\n      <td>8.228557e+11</td>\n      <td>3.500891e+06</td>\n    </tr>\n    <tr>\n      <th>2</th>\n      <td>3.22590</td>\n      <td>49.60741</td>\n      <td>POINT (3.22590 49.60741)</td>\n      <td>Hauts-de-France</td>\n      <td>32</td>\n      <td>8.228557e+11</td>\n      <td>3.500891e+06</td>\n    </tr>\n    <tr>\n      <th>3</th>\n      <td>3.22590</td>\n      <td>49.60741</td>\n      <td>POINT (3.22590 49.60741)</td>\n      <td>Hauts-de-France</td>\n      <td>32</td>\n      <td>8.228557e+11</td>\n      <td>3.500891e+06</td>\n    </tr>\n    <tr>\n      <th>4</th>\n      <td>3.43197</td>\n      <td>49.94787</td>\n      <td>POINT (3.43197 49.94787)</td>\n      <td>Hauts-de-France</td>\n      <td>32</td>\n      <td>8.228557e+11</td>\n      <td>3.500891e+06</td>\n    </tr>\n    <tr>\n      <th>...</th>\n      <td>...</td>\n      <td>...</td>\n      <td>...</td>\n      <td>...</td>\n      <td>...</td>\n      <td>...</td>\n      <td>...</td>\n    </tr>\n    <tr>\n      <th>1211637</th>\n      <td>1.18239</td>\n      <td>49.31161</td>\n      <td>POINT (1.18239 49.31161)</td>\n      <td>Hauts-de-France</td>\n      <td>32</td>\n      <td>8.228557e+11</td>\n      <td>3.500891e+06</td>\n    </tr>\n    <tr>\n      <th>1211638</th>\n      <td>1.18239</td>\n      <td>49.31161</td>\n      <td>POINT (1.18239 49.31161)</td>\n      <td>Hauts-de-France</td>\n      <td>32</td>\n      <td>8.228557e+11</td>\n      <td>3.500891e+06</td>\n    </tr>\n    <tr>\n      <th>1211639</th>\n      <td>1.18239</td>\n      <td>49.31161</td>\n      <td>POINT (1.18239 49.31161)</td>\n      <td>Hauts-de-France</td>\n      <td>32</td>\n      <td>8.228557e+11</td>\n      <td>3.500891e+06</td>\n    </tr>\n    <tr>\n      <th>1211640</th>\n      <td>1.18239</td>\n      <td>49.31161</td>\n      <td>POINT (1.18239 49.31161)</td>\n      <td>Hauts-de-France</td>\n      <td>32</td>\n      <td>8.228557e+11</td>\n      <td>3.500891e+06</td>\n    </tr>\n    <tr>\n      <th>1211641</th>\n      <td>1.18239</td>\n      <td>49.31161</td>\n      <td>POINT (1.18239 49.31161)</td>\n      <td>Hauts-de-France</td>\n      <td>32</td>\n      <td>8.228557e+11</td>\n      <td>3.500891e+06</td>\n    </tr>\n  </tbody>\n</table>\n<p>1211642 rows × 7 columns</p>\n</div>"
     },
     "execution_count": 46,
     "metadata": {},
     "output_type": "execute_result"
    }
   ],
   "source": [
    "# # Check number of records in bounds:\n",
    "reg_l_II_wgs84 = reg_l_II.to_crs(epsg=epsg_wgs84)\n",
    "\n",
    "def check_nb_in_france(df, col_geom=[f_lng, f_lat], comment=''):\n",
    "    \"\"\"\n",
    "    Tests how many fixed records are in France\n",
    "    :param df:\n",
    "    :param col_geom:\n",
    "    :return:\n",
    "    \"\"\"\n",
    "    # # Convert to numeric:\n",
    "    df2 = df.copy()\n",
    "    df2[col_geom[0]] = pd.to_numeric(df2[col_geom[0]], errors='coerce')\n",
    "    df2[col_geom[1]] = pd.to_numeric(df2[col_geom[1]], errors='coerce')\n",
    "\n",
    "    gdf_tmp = agf.df_to_gdf(df=df2[col_geom], col_geom=col_geom, epsg=epsg_wgs84)\n",
    "    df_fixed_check = agf.spatial_join(gdf_left=gdf_tmp, gdf_right=reg_l_II_wgs84, op='within', how='left').reset_index(drop=True)\n",
    "    idx_in = df_fixed_check.loc[~df_fixed_check['region'].isna()].index\n",
    "    idx_out = df_fixed_check.loc[df_fixed_check['region'].isna()].index\n",
    "    nb_in = len(idx_in)\n",
    "    nb_out = len(idx_out)\n",
    "    print('{}: {:,} en France ({:.1%})'.format(comment, nb_in, nb_in/(nb_in+nb_out)))\n",
    "    # # Export outliers:\n",
    "    df.loc[idx_out].to_csv(join(dir_export, 'coord_hors_france_{}.csv'.format(comment)), index=False, encoding='ansi')\n",
    "\n",
    "    return df_fixed_check\n",
    "\n",
    "# # Test lat, lng avant harmonisation:\n",
    "check_nb_in_france(df=df, col_geom=[f_lng_base, f_lat_base], comment='col_long_lat_raw_data')\n",
    "\n",
    "# # Test lat, lng après harmonisation:\n",
    "check_nb_in_france(df=df_fixed, col_geom=[f_lng, f_lat], comment='col_long_lat')\n",
    "\n",
    "# # Test recent après harmonisation:\n",
    "check_nb_in_france(df=df_fixed, col_geom=[f_lng_rec, f_lat_rec], comment='col_long_lat_annee_recente')"
   ],
   "metadata": {
    "collapsed": false,
    "ExecuteTime": {
     "end_time": "2023-07-24T13:49:26.807757Z",
     "start_time": "2023-07-24T13:49:00.930155200Z"
    }
   }
  }
 ],
 "metadata": {
  "kernelspec": {
   "display_name": "Python 3",
   "language": "python",
   "name": "python3"
  },
  "language_info": {
   "codemirror_mode": {
    "name": "ipython",
    "version": 2
   },
   "file_extension": ".py",
   "mimetype": "text/x-python",
   "name": "python",
   "nbconvert_exporter": "python",
   "pygments_lexer": "ipython2",
   "version": "2.7.6"
  }
 },
 "nbformat": 4,
 "nbformat_minor": 0
}
