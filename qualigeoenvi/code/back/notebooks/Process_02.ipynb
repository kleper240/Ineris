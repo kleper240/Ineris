{
 "cells": [
  {
   "cell_type": "markdown",
   "id": "83117c8b",
   "metadata": {},
   "source": [
    "# Imports\n",
    "## Import Data science packages"
   ]
  },
  {
   "cell_type": "code",
   "execution_count": 1,
   "id": "cddbad24",
   "metadata": {},
   "outputs": [],
   "source": [
    "import numpy as np\n",
    "import pandas as pd\n",
    "import os \n",
    "import re\n",
    "import matplotlib.pyplot as plt\n"
   ]
  },
  {
   "cell_type": "markdown",
   "id": "342f9d9d",
   "metadata": {},
   "source": [
    "## Import geolocalisation data"
   ]
  },
  {
   "cell_type": "code",
   "execution_count": 26,
   "id": "70ae20b2",
   "metadata": {},
   "outputs": [
    {
     "ename": "ModuleNotFoundError",
     "evalue": "No module named 'geopandas'",
     "output_type": "error",
     "traceback": [
      "\u001b[0;31m---------------------------------------------------------------------------\u001b[0m",
      "\u001b[0;31mModuleNotFoundError\u001b[0m                       Traceback (most recent call last)",
      "Cell \u001b[0;32mIn [26], line 1\u001b[0m\n\u001b[0;32m----> 1\u001b[0m \u001b[38;5;28;01mimport\u001b[39;00m \u001b[38;5;21;01mgeopandas\u001b[39;00m \u001b[38;5;28;01mas\u001b[39;00m \u001b[38;5;21;01mgpd\u001b[39;00m\n\u001b[1;32m      2\u001b[0m \u001b[38;5;28;01mfrom\u001b[39;00m \u001b[38;5;21;01mgeopandas\u001b[39;00m \u001b[38;5;28;01mimport\u001b[39;00m GeoDataFrame\n\u001b[1;32m      3\u001b[0m \u001b[38;5;28;01mfrom\u001b[39;00m \u001b[38;5;21;01mshapely\u001b[39;00m\u001b[38;5;21;01m.\u001b[39;00m\u001b[38;5;21;01mgeometry\u001b[39;00m \u001b[38;5;28;01mimport\u001b[39;00m Point\n",
      "\u001b[0;31mModuleNotFoundError\u001b[0m: No module named 'geopandas'"
     ]
    }
   ],
   "source": [
    "import geopandas as gpd\n",
    "from geopandas import GeoDataFrame\n",
    "from shapely.geometry import Point"
   ]
  },
  {
   "cell_type": "markdown",
   "id": "10fdd2b7",
   "metadata": {},
   "source": [
    "## Import helpers"
   ]
  },
  {
   "cell_type": "code",
   "execution_count": 3,
   "id": "9d26ce9a",
   "metadata": {},
   "outputs": [],
   "source": [
    "class Process:\n",
    "    def __init__(self, path, filename):\n",
    "        self.path = path\n",
    "        self.imported_data = pd.read_csv(f'{path}{filename}', sep=';', low_memory=False)\n",
    "        self.processed_data = self.imported_data.copy()\n",
    "        print(\"CSV imported\")\n",
    "        # ------------- METHODS APPLIED UPON INIT ------------ #\n",
    "\n",
    "        #self.compute_nan_P()\n",
    "        self._columns_title_format()\n",
    "        self.replace_space()\n",
    "        self.data_desc()\n",
    "        # ------------- METHODS APPLIED UPON INIT ------------ #\n",
    "    def _columns_title_format(self):\n",
    "        data_columns = list(self.processed_data.columns)\n",
    "        data_columns = [col.replace(' ', '_').capitalize() for col in data_columns]\n",
    "        self.processed_data.columns = data_columns\n",
    "        print(\"Formatted columns title\")\n",
    "        return self.processed_data\n",
    "   \n",
    "       # Function for replacing space with '_' in columns of a df\n",
    "    def replace_space(self):\n",
    "        df = self.processed_data.select_dtypes(include=['object'])\n",
    "        df = df.stack().str.replace(' ', '_').unstack()\n",
    "        # modif du 8/2/2023\n",
    "        for col in df.columns:\n",
    "            self.processed_data[col] = df[col]\n",
    "        return self.processed_data\n",
    "    # Function for quickly describing the data\n",
    "    def data_desc(self):\n",
    "        print(self.processed_data.dropna(how = 'all').shape) #pour voir si certaines lignes comportent des valeurs NaN partout (Non)\n",
    "        return(self.processed_data.info())\n",
    "        # -------------- METHODS FOR DETECTING AND DISCARDING STATISTICALLY INSIGNIFICANT COLUMNS --------- #\n",
    " ## Discard statistically insignificant features\n",
    "    def compute_nan_P(self):\n",
    "        data_isna_P = (self.processed_data.isna().sum()) * 100/len(self.processed_data)\n",
    "        cols = [x for x in range (self.processed_data.shape[1])]\n",
    "        count =0\n",
    "        print(\"Printing removed columns...\")\n",
    "        for ii in data_isna_P.index:\n",
    "            count +=1\n",
    "            if (data_isna_P[ii] > 55):\n",
    "                cols.remove(count-1)\n",
    "                print (\"\\t\", ii)\n",
    "            else:\n",
    "                continue\n",
    "        self.processed_data = self.processed_data.iloc[:, cols]"
   ]
  },
  {
   "cell_type": "code",
   "execution_count": 4,
   "id": "0b85db96",
   "metadata": {},
   "outputs": [],
   "source": [
    "# DISCARD NAN COLUMNS\n",
    "def droping_nan_variable(df, variable_col):\n",
    "    # variable_Col must be given between quotations\n",
    "    cond2_droping_nan_Variable = df[variable_col].notna()\n",
    "    df_new_data = df[cond2_droping_nan_Variable]\n",
    "    return df_new_data"
   ]
  },
  {
   "cell_type": "code",
   "execution_count": 5,
   "id": "537ecb3c",
   "metadata": {},
   "outputs": [],
   "source": [
    "# Function to create a new dataframe with column types\n",
    "def col_type_table(df_clean):\n",
    "# Create a dataframe to store the column names and data types\n",
    "    df_data_type = pd.DataFrame({'Colonne' : list(df_clean.columns)})\n",
    "    return df_data_type\n",
    "\n",
    "# Add a new column to indicate the type of each column\n",
    "def get_column_type(col):\n",
    "    if address_pattern.search(col):\n",
    "        return 'adresse'\n",
    "    elif date_pattern.search(col):\n",
    "        return 'date'\n",
    "    elif geo_pattern.search(col):\n",
    "        return 'coordonnées géographiques'\n",
    "    else:\n",
    "        return 'autre'\n",
    "\n",
    "#Method to convert any date columns to datetime : 1st method \n",
    "# (takes into account only cases where date formats vary across columns)\n",
    "def convert_to_datetime(df, date_columns):\n",
    "    for col in date_columns:\n",
    "        # Try different date formats one by one\n",
    "        for fmt in [\n",
    "        '%Y-%m-%d %H:%M:%S',\n",
    "        '%Y-%m-%d',\n",
    "        '%d-%m-%Y %H:%M:%S',\n",
    "        '%d-%m-%Y',\n",
    "        '%m/%d/%Y %H:%M:%S',\n",
    "        '%m/%d/%Y',\n",
    "        '%m-%d-%Y %H:%M:%S',\n",
    "        '%m-%d-%Y',\n",
    "        '%d/%m/%Y %H:%M:%S',\n",
    "        '%d/%m/%Y_%H:%M',\n",
    "        '%d/%m/%Y']:\n",
    "            try:\n",
    "                # Try to convert the column to datetime using the current format\n",
    "                df[col] = pd.to_datetime(df[col], format=fmt)\n",
    "                print(f\"Format {fmt} worked for column {col}\")\n",
    "                break # If successful, break out of the loop and move to the next column\n",
    "            except:\n",
    "                print(f\"Format {fmt} didn't work for column {col}\")\n",
    "                pass # If conversion fails, move to the next format\n",
    "    return df\n",
    "\n",
    "#Method to convert any date columns to datetime : 2nd method \n",
    "# (takes into account cases where date formats vary across rows within the same column)\n",
    "def convert_to_datetime_bis(df, date_columns):\n",
    "    for col in date_columns:\n",
    "        # Check if the column contains any non-string values\n",
    "        if np.issubdtype(df[col].dtype, np.number):\n",
    "            # Convert float values to string\n",
    "            df[col] = df[col].astype(str)\n",
    "        # Iterate over each value in the column\n",
    "        # Convert string values to datetime using dateutil.parser.parse\n",
    "        df[col] = [dateutil.parser.parse(x) for x in df[col]]\n",
    "    return df\n",
    "# Methode redondante avec la detection des types de colonnes plus haut\n",
    "\n",
    "def is_date(string, fuzzy=False):\n",
    "    \"\"\"\n",
    "    Return whether the string can be interpreted as a date.\n",
    "\n",
    "    :param string: str, string to check for date\n",
    "    :param fuzzy: bool, ignore unknown tokens in string if True\n",
    "    \"\"\"\n",
    "    try: \n",
    "        parse(string, fuzzy=fuzzy)\n",
    "        return True\n",
    "\n",
    "    except ValueError:\n",
    "        return False\n",
    "\n",
    "# Function to detect projections in Geocoordinates\n",
    "def detect_projection(df, lon_col, lat_col):\n",
    "    \n",
    "    # Check if the values in the longitude and latitude columns are within geographic coordinate range\n",
    "    geo_mask = (df[lon_col] >= -180) & (df[lon_col] <= 180) & \\\n",
    "               (df[lat_col] >= -90) & (df[lat_col] <= 90)\n",
    "    \n",
    "    # Create a new column 'Projection' with the corresponding values\n",
    "    df['Projection'] = np.where(geo_mask, 'Not_projected', 'Projected')\n",
    "    \n",
    "    return df"
   ]
  },
  {
   "cell_type": "code",
   "execution_count": 6,
   "id": "70e61e70",
   "metadata": {},
   "outputs": [],
   "source": [
    "def boxPlotAll(df):\n",
    "    '''Show box plots for each feature'''\n",
    "    \n",
    "    # Select just the numeric features\n",
    "    df = df.select_dtypes(include=[np.number])\n",
    "\n",
    "    # Compute the layout grid size\n",
    "    data_cols = len(df.columns)\n",
    "    unit_size = 5\n",
    "    layout_cols = 4\n",
    "    layout_rows = int(data_cols/layout_cols+layout_cols)\n",
    "\n",
    "    # Make the plots\n",
    "    df.plot(kind='box', subplots=True, figsize=(layout_cols*unit_size+1,layout_rows*unit_size+1), layout=(layout_rows,layout_cols))\n",
    "\n",
    "    plt.show()"
   ]
  },
  {
   "cell_type": "markdown",
   "id": "a4c0e6ef",
   "metadata": {},
   "source": [
    "## Import Data"
   ]
  },
  {
   "cell_type": "code",
   "execution_count": 7,
   "id": "383ab7c2",
   "metadata": {},
   "outputs": [
    {
     "data": {
      "text/plain": [
       "'Installations classées.csv'"
      ]
     },
     "execution_count": 7,
     "metadata": {},
     "output_type": "execute_result"
    }
   ],
   "source": [
    "## DATA PATH\n",
    "path_to_data = ('/Users/souha_kassab/Documents/git_repos/qualigeoenvi/static/')\n",
    "Unique_Labels_List = os.listdir(path_to_data)\n",
    "filename = Unique_Labels_List[0]\n",
    "filename\n"
   ]
  },
  {
   "cell_type": "markdown",
   "id": "c8484936",
   "metadata": {},
   "source": [
    "# Prep data for cleaning\n",
    "## Format column entries"
   ]
  },
  {
   "cell_type": "code",
   "execution_count": 8,
   "id": "d3b840ca",
   "metadata": {},
   "outputs": [
    {
     "name": "stdout",
     "output_type": "stream",
     "text": [
      "CSV imported\n",
      "Formatted columns title\n",
      "(125117, 16)\n",
      "<class 'pandas.core.frame.DataFrame'>\n",
      "RangeIndex: 125117 entries, 0 to 125116\n",
      "Data columns (total 16 columns):\n",
      " #   Column                       Non-Null Count   Dtype  \n",
      "---  ------                       --------------   -----  \n",
      " 0   Numéro_d'inspection          125117 non-null  int64  \n",
      " 1   Nom_établissement            125012 non-null  object \n",
      " 2   Adresse_1                    112361 non-null  object \n",
      " 3   Adresse_2                    36143 non-null   object \n",
      " 4   Adresse_3                    183 non-null     object \n",
      " 5   Code_postal                  125012 non-null  float64\n",
      " 6   Commune                      125012 non-null  object \n",
      " 7   Régime_en_vigueur            125117 non-null  object \n",
      " 8   Statut_seveso                61954 non-null   object \n",
      " 9   Date_de_dernière_inspection  32690 non-null   object \n",
      " 10  Unnamed:_10                  0 non-null       float64\n",
      " 11  Unnamed:_11                  0 non-null       float64\n",
      " 12  Unnamed:_12                  0 non-null       float64\n",
      " 13  Unnamed:_13                  0 non-null       float64\n",
      " 14  Unnamed:_14                  0 non-null       float64\n",
      " 15  Unnamed:_15                  1 non-null       object \n",
      "dtypes: float64(6), int64(1), object(9)\n",
      "memory usage: 15.3+ MB\n"
     ]
    }
   ],
   "source": [
    "process = Process(path=path_to_data, filename=filename)\n"
   ]
  },
  {
   "cell_type": "code",
   "execution_count": 9,
   "id": "b5eceac8",
   "metadata": {},
   "outputs": [],
   "source": [
    "df_clean = process.processed_data"
   ]
  },
  {
   "cell_type": "markdown",
   "id": "4c6a5219",
   "metadata": {},
   "source": [
    "## Visualize data"
   ]
  },
  {
   "cell_type": "code",
   "execution_count": 10,
   "id": "592c7732",
   "metadata": {},
   "outputs": [
    {
     "data": {
      "image/png": "[encoded data removed]",
      "text/plain": [
       "<Figure size 2100x2600 with 20 Axes>"
      ]
     },
     "metadata": {},
     "output_type": "display_data"
    }
   ],
   "source": [
    "boxPlotAll(df_clean)"
   ]
  },
  {
   "cell_type": "markdown",
   "id": "4e867ae5",
   "metadata": {},
   "source": [
    "## Get column types"
   ]
  },
  {
   "cell_type": "code",
   "execution_count": 11,
   "id": "e1e07a32",
   "metadata": {},
   "outputs": [
    {
     "data": {
      "text/html": [
       "<div>\n",
       "<style scoped>\n",
       "    .dataframe tbody tr th:only-of-type {\n",
       "        vertical-align: middle;\n",
       "    }\n",
       "\n",
       "    .dataframe tbody tr th {\n",
       "        vertical-align: top;\n",
       "    }\n",
       "\n",
       "    .dataframe thead th {\n",
       "        text-align: right;\n",
       "    }\n",
       "</style>\n",
       "<table border=\"1\" class=\"dataframe\">\n",
       "  <thead>\n",
       "    <tr style=\"text-align: right;\">\n",
       "      <th></th>\n",
       "      <th>Colonne</th>\n",
       "    </tr>\n",
       "  </thead>\n",
       "  <tbody>\n",
       "    <tr>\n",
       "      <th>0</th>\n",
       "      <td>Numéro_d'inspection</td>\n",
       "    </tr>\n",
       "    <tr>\n",
       "      <th>1</th>\n",
       "      <td>Nom_établissement</td>\n",
       "    </tr>\n",
       "    <tr>\n",
       "      <th>2</th>\n",
       "      <td>Adresse_1</td>\n",
       "    </tr>\n",
       "    <tr>\n",
       "      <th>3</th>\n",
       "      <td>Adresse_2</td>\n",
       "    </tr>\n",
       "    <tr>\n",
       "      <th>4</th>\n",
       "      <td>Adresse_3</td>\n",
       "    </tr>\n",
       "    <tr>\n",
       "      <th>5</th>\n",
       "      <td>Code_postal</td>\n",
       "    </tr>\n",
       "    <tr>\n",
       "      <th>6</th>\n",
       "      <td>Commune</td>\n",
       "    </tr>\n",
       "    <tr>\n",
       "      <th>7</th>\n",
       "      <td>Régime_en_vigueur</td>\n",
       "    </tr>\n",
       "    <tr>\n",
       "      <th>8</th>\n",
       "      <td>Statut_seveso</td>\n",
       "    </tr>\n",
       "    <tr>\n",
       "      <th>9</th>\n",
       "      <td>Date_de_dernière_inspection</td>\n",
       "    </tr>\n",
       "    <tr>\n",
       "      <th>10</th>\n",
       "      <td>Unnamed:_10</td>\n",
       "    </tr>\n",
       "    <tr>\n",
       "      <th>11</th>\n",
       "      <td>Unnamed:_11</td>\n",
       "    </tr>\n",
       "    <tr>\n",
       "      <th>12</th>\n",
       "      <td>Unnamed:_12</td>\n",
       "    </tr>\n",
       "    <tr>\n",
       "      <th>13</th>\n",
       "      <td>Unnamed:_13</td>\n",
       "    </tr>\n",
       "    <tr>\n",
       "      <th>14</th>\n",
       "      <td>Unnamed:_14</td>\n",
       "    </tr>\n",
       "    <tr>\n",
       "      <th>15</th>\n",
       "      <td>Unnamed:_15</td>\n",
       "    </tr>\n",
       "  </tbody>\n",
       "</table>\n",
       "</div>"
      ],
      "text/plain": [
       "                        Colonne\n",
       "0           Numéro_d'inspection\n",
       "1             Nom_établissement\n",
       "2                     Adresse_1\n",
       "3                     Adresse_2\n",
       "4                     Adresse_3\n",
       "5                   Code_postal\n",
       "6                       Commune\n",
       "7             Régime_en_vigueur\n",
       "8                 Statut_seveso\n",
       "9   Date_de_dernière_inspection\n",
       "10                  Unnamed:_10\n",
       "11                  Unnamed:_11\n",
       "12                  Unnamed:_12\n",
       "13                  Unnamed:_13\n",
       "14                  Unnamed:_14\n",
       "15                  Unnamed:_15"
      ]
     },
     "execution_count": 11,
     "metadata": {},
     "output_type": "execute_result"
    }
   ],
   "source": [
    "df_data_type = col_type_table(df_clean)\n",
    "df_data_type"
   ]
  },
  {
   "cell_type": "code",
   "execution_count": 12,
   "id": "bf4a3c71",
   "metadata": {},
   "outputs": [],
   "source": [
    "# Define regular expression patterns to match address-related, date-related, geo coordinates keywords\n",
    "address_pattern = re.compile(r'(adresse|rue|avenue|boulevard|passage|voie|chemin|allée|ville|commune|code\\s*postal|pays)', flags=re.IGNORECASE)\n",
    "date_pattern = re.compile(r'(date|début|fin|année|jour|heure|période|temps|durée)', flags=re.IGNORECASE)\n",
    "geo_pattern = re.compile(r'(longitude|latitude)', flags=re.IGNORECASE)\n"
   ]
  },
  {
   "cell_type": "code",
   "execution_count": 13,
   "id": "66ecd47a",
   "metadata": {},
   "outputs": [
    {
     "name": "stdout",
     "output_type": "stream",
     "text": [
      "                        Colonne Colonne_type\n",
      "0           Numéro_d'inspection        autre\n",
      "1             Nom_établissement        autre\n",
      "2                     Adresse_1      adresse\n",
      "3                     Adresse_2      adresse\n",
      "4                     Adresse_3      adresse\n",
      "5                   Code_postal        autre\n",
      "6                       Commune      adresse\n",
      "7             Régime_en_vigueur        autre\n",
      "8                 Statut_seveso        autre\n",
      "9   Date_de_dernière_inspection         date\n",
      "10                  Unnamed:_10        autre\n",
      "11                  Unnamed:_11        autre\n",
      "12                  Unnamed:_12        autre\n",
      "13                  Unnamed:_13        autre\n",
      "14                  Unnamed:_14        autre\n",
      "15                  Unnamed:_15        autre\n"
     ]
    }
   ],
   "source": [
    "# Create a dataframe to store the column names and data types\n",
    "df_data_type['Colonne_type'] = df_data_type['Colonne'].apply(get_column_type)\n",
    "# Print the dataframe\n",
    "print(df_data_type)"
   ]
  },
  {
   "cell_type": "markdown",
   "id": "f927b56b",
   "metadata": {},
   "source": [
    "## Handling Adresses in original dataframe"
   ]
  },
  {
   "cell_type": "code",
   "execution_count": 14,
   "id": "c034825b",
   "metadata": {},
   "outputs": [],
   "source": [
    "# CONDITION DE COMPLETION DES ADRESSES\n",
    "def completion_adresses(df_clean, cond_adresse):\n",
    "    if (cond_adresse.empty is True):\n",
    "        print(\"Pas d'adresses dans ce tableau\") \n",
    "    else:\n",
    "#df_clean['adresse_complete'] = ''\n",
    "        for row in cond_adresse['Colonne']:\n",
    "            if (df_clean[row].isna().sum() == 0):\n",
    "                for ii in range(0,len(df_clean)):\n",
    "                    df_clean.loc[ii, 'adresse_complete'] += df_clean.loc[ii,row]\n",
    "                print(row)\n",
    "            else:\n",
    "                print (\"Pas d'adresse complète\")\n",
    "    return df_clean"
   ]
  },
  {
   "cell_type": "code",
   "execution_count": 15,
   "id": "c1ba20ac",
   "metadata": {},
   "outputs": [
    {
     "name": "stdout",
     "output_type": "stream",
     "text": [
      "Adresse_1\n",
      "Adresse_2\n",
      "Adresse_3\n",
      "Commune\n"
     ]
    }
   ],
   "source": [
    "cond_adresse = df_data_type[df_data_type['Colonne_type'] == 'adresse']\n",
    "filtered_adresses = df_clean[cond_adresse['Colonne']]\n",
    "for col in filtered_adresses.columns:\n",
    "    print(col)\n"
   ]
  },
  {
   "cell_type": "code",
   "execution_count": 16,
   "id": "170f04db",
   "metadata": {},
   "outputs": [
    {
     "name": "stdout",
     "output_type": "stream",
     "text": [
      "                Adresse_1 Adresse_2            Adresse_3     Commune\n",
      "count              112361     36143                  183      125012\n",
      "unique              99218     29763                  176       27701\n",
      "top     Zone_Industrielle        ZI  94012_CRETEIL_CEDEX  STRASBOURG\n",
      "freq                  191       118                    3         288\n"
     ]
    }
   ],
   "source": [
    "if filtered_adresses.shape[1] >0:\n",
    "    print(filtered_adresses.describe())"
   ]
  },
  {
   "cell_type": "code",
   "execution_count": 17,
   "id": "323070bd",
   "metadata": {},
   "outputs": [
    {
     "name": "stdout",
     "output_type": "stream",
     "text": [
      "Pas d'adresse complète\n",
      "Pas d'adresse complète\n",
      "Pas d'adresse complète\n",
      "Pas d'adresse complète\n"
     ]
    },
    {
     "data": {
      "text/html": [
       "<div>\n",
       "<style scoped>\n",
       "    .dataframe tbody tr th:only-of-type {\n",
       "        vertical-align: middle;\n",
       "    }\n",
       "\n",
       "    .dataframe tbody tr th {\n",
       "        vertical-align: top;\n",
       "    }\n",
       "\n",
       "    .dataframe thead th {\n",
       "        text-align: right;\n",
       "    }\n",
       "</style>\n",
       "<table border=\"1\" class=\"dataframe\">\n",
       "  <thead>\n",
       "    <tr style=\"text-align: right;\">\n",
       "      <th></th>\n",
       "      <th>Numéro_d'inspection</th>\n",
       "      <th>Nom_établissement</th>\n",
       "      <th>Adresse_1</th>\n",
       "      <th>Adresse_2</th>\n",
       "      <th>Adresse_3</th>\n",
       "      <th>Code_postal</th>\n",
       "      <th>Commune</th>\n",
       "      <th>Régime_en_vigueur</th>\n",
       "      <th>Statut_seveso</th>\n",
       "      <th>Date_de_dernière_inspection</th>\n",
       "      <th>Unnamed:_10</th>\n",
       "      <th>Unnamed:_11</th>\n",
       "      <th>Unnamed:_12</th>\n",
       "      <th>Unnamed:_13</th>\n",
       "      <th>Unnamed:_14</th>\n",
       "      <th>Unnamed:_15</th>\n",
       "    </tr>\n",
       "  </thead>\n",
       "  <tbody>\n",
       "    <tr>\n",
       "      <th>0</th>\n",
       "      <td>5</td>\n",
       "      <td>ORLEANS_METROPOLE_-_Parc_de_Loire</td>\n",
       "      <td>5_PL_DU_6_JUIN_1944</td>\n",
       "      <td>ESPACE_SAINT_MARC</td>\n",
       "      <td>45058_ORLEANS_CEDEX_1</td>\n",
       "      <td>45000.0</td>\n",
       "      <td>ORLEANS</td>\n",
       "      <td>Autorisation</td>\n",
       "      <td>Non_Seveso</td>\n",
       "      <td>NaN</td>\n",
       "      <td>NaN</td>\n",
       "      <td>NaN</td>\n",
       "      <td>NaN</td>\n",
       "      <td>NaN</td>\n",
       "      <td>NaN</td>\n",
       "      <td>NaN</td>\n",
       "    </tr>\n",
       "    <tr>\n",
       "      <th>1</th>\n",
       "      <td>10</td>\n",
       "      <td>GRANUPLAST_FRANCE</td>\n",
       "      <td>754_rue_de_la_liberté</td>\n",
       "      <td>ZI_la_grande_borne</td>\n",
       "      <td>NaN</td>\n",
       "      <td>1480.0</td>\n",
       "      <td>Jassans-Riottier</td>\n",
       "      <td>Autorisation</td>\n",
       "      <td>Non_Seveso</td>\n",
       "      <td>08/03/2022</td>\n",
       "      <td>NaN</td>\n",
       "      <td>NaN</td>\n",
       "      <td>NaN</td>\n",
       "      <td>NaN</td>\n",
       "      <td>NaN</td>\n",
       "      <td>NaN</td>\n",
       "    </tr>\n",
       "    <tr>\n",
       "      <th>2</th>\n",
       "      <td>39</td>\n",
       "      <td>COVED_Environnement</td>\n",
       "      <td>Le_Razas</td>\n",
       "      <td>NaN</td>\n",
       "      <td>NaN</td>\n",
       "      <td>26780.0</td>\n",
       "      <td>Malataverne</td>\n",
       "      <td>Autorisation</td>\n",
       "      <td>Non_Seveso</td>\n",
       "      <td>NaN</td>\n",
       "      <td>NaN</td>\n",
       "      <td>NaN</td>\n",
       "      <td>NaN</td>\n",
       "      <td>NaN</td>\n",
       "      <td>NaN</td>\n",
       "      <td>NaN</td>\n",
       "    </tr>\n",
       "    <tr>\n",
       "      <th>3</th>\n",
       "      <td>3012003</td>\n",
       "      <td>ENGIE_ENERGIE_SERVICES_(Novawood)</td>\n",
       "      <td>chemin_du_Vaquené</td>\n",
       "      <td>NaN</td>\n",
       "      <td>NaN</td>\n",
       "      <td>54410.0</td>\n",
       "      <td>LANEUVEVILLE_DEVANT_NANCY</td>\n",
       "      <td>Autres_régimes</td>\n",
       "      <td>NaN</td>\n",
       "      <td>31/03/2022</td>\n",
       "      <td>NaN</td>\n",
       "      <td>NaN</td>\n",
       "      <td>NaN</td>\n",
       "      <td>NaN</td>\n",
       "      <td>NaN</td>\n",
       "      <td>NaN</td>\n",
       "    </tr>\n",
       "    <tr>\n",
       "      <th>4</th>\n",
       "      <td>3012004</td>\n",
       "      <td>PROMOCASH</td>\n",
       "      <td>ZA_FARMAN</td>\n",
       "      <td>RUE_PAUL_MARIO</td>\n",
       "      <td>NaN</td>\n",
       "      <td>51100.0</td>\n",
       "      <td>REIMS</td>\n",
       "      <td>Autres_régimes</td>\n",
       "      <td>NaN</td>\n",
       "      <td>NaN</td>\n",
       "      <td>NaN</td>\n",
       "      <td>NaN</td>\n",
       "      <td>NaN</td>\n",
       "      <td>NaN</td>\n",
       "      <td>NaN</td>\n",
       "      <td>NaN</td>\n",
       "    </tr>\n",
       "    <tr>\n",
       "      <th>...</th>\n",
       "      <td>...</td>\n",
       "      <td>...</td>\n",
       "      <td>...</td>\n",
       "      <td>...</td>\n",
       "      <td>...</td>\n",
       "      <td>...</td>\n",
       "      <td>...</td>\n",
       "      <td>...</td>\n",
       "      <td>...</td>\n",
       "      <td>...</td>\n",
       "      <td>...</td>\n",
       "      <td>...</td>\n",
       "      <td>...</td>\n",
       "      <td>...</td>\n",
       "      <td>...</td>\n",
       "      <td>...</td>\n",
       "    </tr>\n",
       "    <tr>\n",
       "      <th>125112</th>\n",
       "      <td>100013530</td>\n",
       "      <td>TotalEnergies_Marketing_France_-_relais_de_Cus...</td>\n",
       "      <td>41_rue_du_général_Leclerc</td>\n",
       "      <td>NaN</td>\n",
       "      <td>NaN</td>\n",
       "      <td>54670.0</td>\n",
       "      <td>Custines</td>\n",
       "      <td>Autres_régimes</td>\n",
       "      <td>NaN</td>\n",
       "      <td>31/01/2023</td>\n",
       "      <td>NaN</td>\n",
       "      <td>NaN</td>\n",
       "      <td>NaN</td>\n",
       "      <td>NaN</td>\n",
       "      <td>NaN</td>\n",
       "      <td>NaN</td>\n",
       "    </tr>\n",
       "    <tr>\n",
       "      <th>125113</th>\n",
       "      <td>100013538</td>\n",
       "      <td>Station_AVIA</td>\n",
       "      <td>1_route_de_Nancy</td>\n",
       "      <td>NaN</td>\n",
       "      <td>NaN</td>\n",
       "      <td>54610.0</td>\n",
       "      <td>Nomeny</td>\n",
       "      <td>Autres_régimes</td>\n",
       "      <td>NaN</td>\n",
       "      <td>23/01/2023</td>\n",
       "      <td>NaN</td>\n",
       "      <td>NaN</td>\n",
       "      <td>NaN</td>\n",
       "      <td>NaN</td>\n",
       "      <td>NaN</td>\n",
       "      <td>NaN</td>\n",
       "    </tr>\n",
       "    <tr>\n",
       "      <th>125114</th>\n",
       "      <td>100013570</td>\n",
       "      <td>BOIS_AUTO_PALETTES</td>\n",
       "      <td>64_RN3</td>\n",
       "      <td>NaN</td>\n",
       "      <td>NaN</td>\n",
       "      <td>77124.0</td>\n",
       "      <td>Chauconin-Neufmontiers</td>\n",
       "      <td>Autres_régimes</td>\n",
       "      <td>NaN</td>\n",
       "      <td>26/01/2023</td>\n",
       "      <td>NaN</td>\n",
       "      <td>NaN</td>\n",
       "      <td>NaN</td>\n",
       "      <td>NaN</td>\n",
       "      <td>NaN</td>\n",
       "      <td>NaN</td>\n",
       "    </tr>\n",
       "    <tr>\n",
       "      <th>125115</th>\n",
       "      <td>100013684</td>\n",
       "      <td>DE_SAINT-REMY_Laure</td>\n",
       "      <td>1_Route_de_la_Chenillée</td>\n",
       "      <td>La_Noue</td>\n",
       "      <td>NaN</td>\n",
       "      <td>85540.0</td>\n",
       "      <td>Saint-Vincent-sur-Graon</td>\n",
       "      <td>Autres_régimes</td>\n",
       "      <td>NaN</td>\n",
       "      <td>02/02/2023</td>\n",
       "      <td>NaN</td>\n",
       "      <td>NaN</td>\n",
       "      <td>NaN</td>\n",
       "      <td>NaN</td>\n",
       "      <td>NaN</td>\n",
       "      <td>NaN</td>\n",
       "    </tr>\n",
       "    <tr>\n",
       "      <th>125116</th>\n",
       "      <td>100013801</td>\n",
       "      <td>HOPITAL_PRIVE_DE_LA_BAIE</td>\n",
       "      <td>1_Avenue_du_Quesnoy</td>\n",
       "      <td>NaN</td>\n",
       "      <td>NaN</td>\n",
       "      <td>50300.0</td>\n",
       "      <td>AVRANCHES</td>\n",
       "      <td>Autres_régimes</td>\n",
       "      <td>NaN</td>\n",
       "      <td>06/02/2023</td>\n",
       "      <td>NaN</td>\n",
       "      <td>NaN</td>\n",
       "      <td>NaN</td>\n",
       "      <td>NaN</td>\n",
       "      <td>NaN</td>\n",
       "      <td>NaN</td>\n",
       "    </tr>\n",
       "  </tbody>\n",
       "</table>\n",
       "<p>125117 rows × 16 columns</p>\n",
       "</div>"
      ],
      "text/plain": [
       "        Numéro_d'inspection  \\\n",
       "0                         5   \n",
       "1                        10   \n",
       "2                        39   \n",
       "3                   3012003   \n",
       "4                   3012004   \n",
       "...                     ...   \n",
       "125112            100013530   \n",
       "125113            100013538   \n",
       "125114            100013570   \n",
       "125115            100013684   \n",
       "125116            100013801   \n",
       "\n",
       "                                        Nom_établissement  \\\n",
       "0                       ORLEANS_METROPOLE_-_Parc_de_Loire   \n",
       "1                                       GRANUPLAST_FRANCE   \n",
       "2                                     COVED_Environnement   \n",
       "3                       ENGIE_ENERGIE_SERVICES_(Novawood)   \n",
       "4                                               PROMOCASH   \n",
       "...                                                   ...   \n",
       "125112  TotalEnergies_Marketing_France_-_relais_de_Cus...   \n",
       "125113                                       Station_AVIA   \n",
       "125114                                 BOIS_AUTO_PALETTES   \n",
       "125115                                DE_SAINT-REMY_Laure   \n",
       "125116                           HOPITAL_PRIVE_DE_LA_BAIE   \n",
       "\n",
       "                        Adresse_1           Adresse_2              Adresse_3  \\\n",
       "0             5_PL_DU_6_JUIN_1944   ESPACE_SAINT_MARC  45058_ORLEANS_CEDEX_1   \n",
       "1           754_rue_de_la_liberté  ZI_la_grande_borne                    NaN   \n",
       "2                        Le_Razas                 NaN                    NaN   \n",
       "3               chemin_du_Vaquené                 NaN                    NaN   \n",
       "4                       ZA_FARMAN      RUE_PAUL_MARIO                    NaN   \n",
       "...                           ...                 ...                    ...   \n",
       "125112  41_rue_du_général_Leclerc                 NaN                    NaN   \n",
       "125113           1_route_de_Nancy                 NaN                    NaN   \n",
       "125114                     64_RN3                 NaN                    NaN   \n",
       "125115    1_Route_de_la_Chenillée             La_Noue                    NaN   \n",
       "125116        1_Avenue_du_Quesnoy                 NaN                    NaN   \n",
       "\n",
       "        Code_postal                    Commune Régime_en_vigueur  \\\n",
       "0           45000.0                    ORLEANS      Autorisation   \n",
       "1            1480.0           Jassans-Riottier      Autorisation   \n",
       "2           26780.0                Malataverne      Autorisation   \n",
       "3           54410.0  LANEUVEVILLE_DEVANT_NANCY    Autres_régimes   \n",
       "4           51100.0                      REIMS    Autres_régimes   \n",
       "...             ...                        ...               ...   \n",
       "125112      54670.0                   Custines    Autres_régimes   \n",
       "125113      54610.0                     Nomeny    Autres_régimes   \n",
       "125114      77124.0     Chauconin-Neufmontiers    Autres_régimes   \n",
       "125115      85540.0    Saint-Vincent-sur-Graon    Autres_régimes   \n",
       "125116      50300.0                  AVRANCHES    Autres_régimes   \n",
       "\n",
       "       Statut_seveso Date_de_dernière_inspection  Unnamed:_10  Unnamed:_11  \\\n",
       "0         Non_Seveso                         NaN          NaN          NaN   \n",
       "1         Non_Seveso                  08/03/2022          NaN          NaN   \n",
       "2         Non_Seveso                         NaN          NaN          NaN   \n",
       "3                NaN                  31/03/2022          NaN          NaN   \n",
       "4                NaN                         NaN          NaN          NaN   \n",
       "...              ...                         ...          ...          ...   \n",
       "125112           NaN                  31/01/2023          NaN          NaN   \n",
       "125113           NaN                  23/01/2023          NaN          NaN   \n",
       "125114           NaN                  26/01/2023          NaN          NaN   \n",
       "125115           NaN                  02/02/2023          NaN          NaN   \n",
       "125116           NaN                  06/02/2023          NaN          NaN   \n",
       "\n",
       "        Unnamed:_12  Unnamed:_13  Unnamed:_14 Unnamed:_15  \n",
       "0               NaN          NaN          NaN         NaN  \n",
       "1               NaN          NaN          NaN         NaN  \n",
       "2               NaN          NaN          NaN         NaN  \n",
       "3               NaN          NaN          NaN         NaN  \n",
       "4               NaN          NaN          NaN         NaN  \n",
       "...             ...          ...          ...         ...  \n",
       "125112          NaN          NaN          NaN         NaN  \n",
       "125113          NaN          NaN          NaN         NaN  \n",
       "125114          NaN          NaN          NaN         NaN  \n",
       "125115          NaN          NaN          NaN         NaN  \n",
       "125116          NaN          NaN          NaN         NaN  \n",
       "\n",
       "[125117 rows x 16 columns]"
      ]
     },
     "execution_count": 17,
     "metadata": {},
     "output_type": "execute_result"
    }
   ],
   "source": [
    "completion_adresses(df_clean=df_clean, cond_adresse=cond_adresse)"
   ]
  },
  {
   "cell_type": "markdown",
   "id": "8defd2c6",
   "metadata": {},
   "source": [
    "## Handling dates in original dataframe"
   ]
  },
  {
   "cell_type": "code",
   "execution_count": 18,
   "id": "59777ac2",
   "metadata": {},
   "outputs": [
    {
     "name": "stdout",
     "output_type": "stream",
     "text": [
      "Index(['Numéro_d'inspection', 'Nom_établissement', 'Adresse_1', 'Adresse_2',\n",
      "       'Adresse_3', 'Code_postal', 'Commune', 'Régime_en_vigueur',\n",
      "       'Statut_seveso', 'Date_de_dernière_inspection', 'Unnamed:_10',\n",
      "       'Unnamed:_11', 'Unnamed:_12', 'Unnamed:_13', 'Unnamed:_14',\n",
      "       'Unnamed:_15'],\n",
      "      dtype='object')\n",
      "re.compile('(date|début|fin|année|jour|heure|période|temps|durée)', re.IGNORECASE)\n"
     ]
    },
    {
     "data": {
      "text/html": [
       "<div>\n",
       "<style scoped>\n",
       "    .dataframe tbody tr th:only-of-type {\n",
       "        vertical-align: middle;\n",
       "    }\n",
       "\n",
       "    .dataframe tbody tr th {\n",
       "        vertical-align: top;\n",
       "    }\n",
       "\n",
       "    .dataframe thead th {\n",
       "        text-align: right;\n",
       "    }\n",
       "</style>\n",
       "<table border=\"1\" class=\"dataframe\">\n",
       "  <thead>\n",
       "    <tr style=\"text-align: right;\">\n",
       "      <th></th>\n",
       "      <th>Colonne</th>\n",
       "      <th>Colonne_type</th>\n",
       "    </tr>\n",
       "  </thead>\n",
       "  <tbody>\n",
       "    <tr>\n",
       "      <th>9</th>\n",
       "      <td>Date_de_dernière_inspection</td>\n",
       "      <td>date</td>\n",
       "    </tr>\n",
       "  </tbody>\n",
       "</table>\n",
       "</div>"
      ],
      "text/plain": [
       "                       Colonne Colonne_type\n",
       "9  Date_de_dernière_inspection         date"
      ]
     },
     "execution_count": 18,
     "metadata": {},
     "output_type": "execute_result"
    }
   ],
   "source": [
    "# Print the column names\n",
    "print(df_clean.columns)\n",
    "\n",
    "# Define the regular expression pattern to match the keywords\n",
    "print(date_pattern )\n",
    "\n",
    "# Find the columns that match the date pattern\n",
    "date_cols = list(filter(date_pattern.search, df_clean.columns))\n",
    "## Test that dates columns are well detected\n",
    "cond_date = df_data_type[df_data_type['Colonne_type'] == 'date']\n",
    "cond_date"
   ]
  },
  {
   "cell_type": "code",
   "execution_count": 19,
   "id": "8e50d18e",
   "metadata": {},
   "outputs": [
    {
     "name": "stdout",
     "output_type": "stream",
     "text": [
      "['Date_de_dernière_inspection']\n",
      "Format %Y-%m-%d %H:%M:%S didn't work for column Date_de_dernière_inspection\n",
      "Format %Y-%m-%d didn't work for column Date_de_dernière_inspection\n",
      "Format %d-%m-%Y %H:%M:%S didn't work for column Date_de_dernière_inspection\n",
      "Format %d-%m-%Y didn't work for column Date_de_dernière_inspection\n",
      "Format %m/%d/%Y %H:%M:%S didn't work for column Date_de_dernière_inspection\n",
      "Format %m/%d/%Y didn't work for column Date_de_dernière_inspection\n",
      "Format %m-%d-%Y %H:%M:%S didn't work for column Date_de_dernière_inspection\n",
      "Format %m-%d-%Y didn't work for column Date_de_dernière_inspection\n",
      "Format %d/%m/%Y %H:%M:%S didn't work for column Date_de_dernière_inspection\n",
      "Format %d/%m/%Y_%H:%M didn't work for column Date_de_dernière_inspection\n",
      "Format %d/%m/%Y didn't work for column Date_de_dernière_inspection\n",
      "<class 'pandas.core.frame.DataFrame'>\n",
      "RangeIndex: 125117 entries, 0 to 125116\n",
      "Data columns (total 16 columns):\n",
      " #   Column                       Non-Null Count   Dtype  \n",
      "---  ------                       --------------   -----  \n",
      " 0   Numéro_d'inspection          125117 non-null  int64  \n",
      " 1   Nom_établissement            125012 non-null  object \n",
      " 2   Adresse_1                    112361 non-null  object \n",
      " 3   Adresse_2                    36143 non-null   object \n",
      " 4   Adresse_3                    183 non-null     object \n",
      " 5   Code_postal                  125012 non-null  float64\n",
      " 6   Commune                      125012 non-null  object \n",
      " 7   Régime_en_vigueur            125117 non-null  object \n",
      " 8   Statut_seveso                61954 non-null   object \n",
      " 9   Date_de_dernière_inspection  32690 non-null   object \n",
      " 10  Unnamed:_10                  0 non-null       float64\n",
      " 11  Unnamed:_11                  0 non-null       float64\n",
      " 12  Unnamed:_12                  0 non-null       float64\n",
      " 13  Unnamed:_13                  0 non-null       float64\n",
      " 14  Unnamed:_14                  0 non-null       float64\n",
      " 15  Unnamed:_15                  1 non-null       object \n",
      "dtypes: float64(6), int64(1), object(9)\n",
      "memory usage: 15.3+ MB\n"
     ]
    }
   ],
   "source": [
    "# Print the date columns\n",
    "print(date_cols)\n",
    "## Detect column dates\n",
    "convert_to_datetime(df_clean, date_cols)\n",
    "df_clean.info()"
   ]
  },
  {
   "cell_type": "code",
   "execution_count": 20,
   "id": "848fbcad",
   "metadata": {},
   "outputs": [
    {
     "data": {
      "text/html": [
       "<div>\n",
       "<style scoped>\n",
       "    .dataframe tbody tr th:only-of-type {\n",
       "        vertical-align: middle;\n",
       "    }\n",
       "\n",
       "    .dataframe tbody tr th {\n",
       "        vertical-align: top;\n",
       "    }\n",
       "\n",
       "    .dataframe thead th {\n",
       "        text-align: right;\n",
       "    }\n",
       "</style>\n",
       "<table border=\"1\" class=\"dataframe\">\n",
       "  <thead>\n",
       "    <tr style=\"text-align: right;\">\n",
       "      <th></th>\n",
       "      <th>Colonne</th>\n",
       "      <th>Colonne_type</th>\n",
       "    </tr>\n",
       "  </thead>\n",
       "  <tbody>\n",
       "    <tr>\n",
       "      <th>9</th>\n",
       "      <td>Date_de_dernière_inspection</td>\n",
       "      <td>date</td>\n",
       "    </tr>\n",
       "  </tbody>\n",
       "</table>\n",
       "</div>"
      ],
      "text/plain": [
       "                       Colonne Colonne_type\n",
       "9  Date_de_dernière_inspection         date"
      ]
     },
     "execution_count": 20,
     "metadata": {},
     "output_type": "execute_result"
    }
   ],
   "source": [
    "cond_date"
   ]
  },
  {
   "cell_type": "code",
   "execution_count": 21,
   "id": "5c57a51c",
   "metadata": {},
   "outputs": [
    {
     "name": "stdout",
     "output_type": "stream",
     "text": [
      "Date_de_dernière_inspection\n"
     ]
    }
   ],
   "source": [
    "filtered_dates = df_clean[cond_date['Colonne']]\n",
    "for col in filtered_dates.columns:\n",
    "    print(col)"
   ]
  },
  {
   "cell_type": "code",
   "execution_count": 22,
   "id": "5a14b57b",
   "metadata": {},
   "outputs": [
    {
     "data": {
      "text/html": [
       "<div>\n",
       "<style scoped>\n",
       "    .dataframe tbody tr th:only-of-type {\n",
       "        vertical-align: middle;\n",
       "    }\n",
       "\n",
       "    .dataframe tbody tr th {\n",
       "        vertical-align: top;\n",
       "    }\n",
       "\n",
       "    .dataframe thead th {\n",
       "        text-align: right;\n",
       "    }\n",
       "</style>\n",
       "<table border=\"1\" class=\"dataframe\">\n",
       "  <thead>\n",
       "    <tr style=\"text-align: right;\">\n",
       "      <th></th>\n",
       "      <th>Date_de_dernière_inspection</th>\n",
       "    </tr>\n",
       "  </thead>\n",
       "  <tbody>\n",
       "    <tr>\n",
       "      <th>count</th>\n",
       "      <td>32690</td>\n",
       "    </tr>\n",
       "    <tr>\n",
       "      <th>unique</th>\n",
       "      <td>3661</td>\n",
       "    </tr>\n",
       "    <tr>\n",
       "      <th>top</th>\n",
       "      <td>06/10/2022</td>\n",
       "    </tr>\n",
       "    <tr>\n",
       "      <th>freq</th>\n",
       "      <td>160</td>\n",
       "    </tr>\n",
       "  </tbody>\n",
       "</table>\n",
       "</div>"
      ],
      "text/plain": [
       "       Date_de_dernière_inspection\n",
       "count                        32690\n",
       "unique                        3661\n",
       "top                     06/10/2022\n",
       "freq                           160"
      ]
     },
     "execution_count": 22,
     "metadata": {},
     "output_type": "execute_result"
    }
   ],
   "source": [
    "# create a dataframe with the statistical information of a variable\n",
    "filtered_dates.describe(datetime_is_numeric=True)"
   ]
  },
  {
   "cell_type": "markdown",
   "id": "3ff04f05",
   "metadata": {},
   "source": [
    "##------- code works so far on INstallations_classees --------- ##"
   ]
  },
  {
   "cell_type": "code",
   "execution_count": 23,
   "id": "61f435af",
   "metadata": {},
   "outputs": [
    {
     "name": "stdout",
     "output_type": "stream",
     "text": [
      "Series([], dtype: float64)\n"
     ]
    },
    {
     "name": "stderr",
     "output_type": "stream",
     "text": [
      "/var/folders/xx/m7dpq0_56k9crnft1k608cb80000gn/T/ipykernel_30288/4259447541.py:1: FutureWarning: The default value of numeric_only in DataFrame.max is deprecated. In a future version, it will default to False. In addition, specifying 'numeric_only=None' is deprecated. Select only valid columns or specify the value of numeric_only to silence this warning.\n",
      "  print(filtered_dates.max())\n"
     ]
    }
   ],
   "source": [
    "print(filtered_dates.max())"
   ]
  },
  {
   "cell_type": "code",
   "execution_count": null,
   "id": "ff9ac509",
   "metadata": {},
   "outputs": [],
   "source": []
  },
  {
   "cell_type": "code",
   "execution_count": null,
   "id": "d10a836f",
   "metadata": {},
   "outputs": [],
   "source": [
    "droping_nan_variable(filtered_dates, ['Date_de_début', 'Date_de_fin'])"
   ]
  },
  {
   "cell_type": "code",
   "execution_count": null,
   "id": "8cf34b73",
   "metadata": {},
   "outputs": [],
   "source": []
  },
  {
   "cell_type": "code",
   "execution_count": null,
   "id": "15d2f01c",
   "metadata": {},
   "outputs": [],
   "source": []
  }
 ],
 "metadata": {
  "kernelspec": {
   "display_name": "Python 3 (ipykernel)",
   "language": "python",
   "name": "python3"
  },
  "language_info": {
   "codemirror_mode": {
    "name": "ipython",
    "version": 3
   },
   "file_extension": ".py",
   "mimetype": "text/x-python",
   "name": "python",
   "nbconvert_exporter": "python",
   "pygments_lexer": "ipython3",
   "version": "3.9.12"
  },
  "toc": {
   "base_numbering": 1,
   "nav_menu": {},
   "number_sections": true,
   "sideBar": true,
   "skip_h1_title": false,
   "title_cell": "Table of Contents",
   "title_sidebar": "Contents",
   "toc_cell": false,
   "toc_position": {
    "height": "calc(100% - 180px)",
    "left": "10px",
    "top": "150px",
    "width": "183px"
   },
   "toc_section_display": true,
   "toc_window_display": true
  }
 },
 "nbformat": 4,
 "nbformat_minor": 5
}
